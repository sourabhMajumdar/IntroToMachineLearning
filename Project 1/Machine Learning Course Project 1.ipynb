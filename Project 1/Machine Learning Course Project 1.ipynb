{
 "cells": [
  {
   "cell_type": "markdown",
   "metadata": {},
   "source": [
    "# Machine Learning Course Project : 1\n",
    "Author : Sourabh Majumdar\n",
    "UB Person # 50321599\n",
    "email : smajumda@buffalo.edu\n",
    "\n",
    "This project is submitted in partial fullfilment for the course CSE 574 : Introduction to Machine Learning."
   ]
  },
  {
   "cell_type": "markdown",
   "metadata": {},
   "source": [
    "**Problem Statement**\n",
    "\n",
    "The task of this project is to perform classification using machine learning. It is for a two class problem. The features used for classification are pre-computed from images of a fine needle aspirate (FNA) of a breast mass. Your task is to classify suspected FNA cells to Benign (class 0) or Malignant (class 1) using logistic regression as the classifier. The dataset in use is the Wisconsin Diagnostic Breast Cancer (wdbc.dataset)."
   ]
  },
  {
   "cell_type": "markdown",
   "metadata": {},
   "source": [
    "**Importing all relvant libraries**"
   ]
  },
  {
   "cell_type": "code",
   "execution_count": 1,
   "metadata": {},
   "outputs": [],
   "source": [
    "import numpy as np # to form the matrices for computation\n",
    "import pandas as pd # to read the datafile\n",
    "from sklearn.model_selection import train_test_split # to split our dataset into train, validation and test sets\n",
    "from sklearn import preprocessing # to perform pre-processing\n",
    "import matplotlib.pyplot as plt # to plot the figures and save them\n",
    "# this line enables for matplotlib to plot inside jupyter notebook\n",
    "%matplotlib inline\n",
    "from tqdm import tqdm # this converts the training loop into a nice visual progress bar\n",
    "from sklearn.metrics import accuracy_score, f1_score, classification_report # this helps to calculate the metrics for evaluation\n",
    "import seaborn as sns # this helps us plot the correlation matrix\n",
    "import copy # helps us copy python objects\n",
    "from matplotlib import patches as mpatches # helps to label the plots"
   ]
  },
  {
   "cell_type": "markdown",
   "metadata": {},
   "source": [
    "## Step#1 : Reading Dataset into Jupyter\n",
    "\n",
    "First we need to load the data into the python environment. We use the library [Pandas](https://pandas.pydata.org/) to load the comma separated values of the data into a proper dataframe. "
   ]
  },
  {
   "cell_type": "code",
   "execution_count": 2,
   "metadata": {},
   "outputs": [],
   "source": [
    "# loading the Dataset into the dataframe\n",
    "data_frame = pd.read_csv('wdbc.dataset',header=None)# header = None ensures that we don't form any columns while loading the data"
   ]
  },
  {
   "cell_type": "code",
   "execution_count": 3,
   "metadata": {},
   "outputs": [
    {
     "data": {
      "text/html": [
       "<div>\n",
       "<style scoped>\n",
       "    .dataframe tbody tr th:only-of-type {\n",
       "        vertical-align: middle;\n",
       "    }\n",
       "\n",
       "    .dataframe tbody tr th {\n",
       "        vertical-align: top;\n",
       "    }\n",
       "\n",
       "    .dataframe thead th {\n",
       "        text-align: right;\n",
       "    }\n",
       "</style>\n",
       "<table border=\"1\" class=\"dataframe\">\n",
       "  <thead>\n",
       "    <tr style=\"text-align: right;\">\n",
       "      <th></th>\n",
       "      <th>0</th>\n",
       "      <th>1</th>\n",
       "      <th>2</th>\n",
       "      <th>3</th>\n",
       "      <th>4</th>\n",
       "      <th>5</th>\n",
       "      <th>6</th>\n",
       "      <th>7</th>\n",
       "      <th>8</th>\n",
       "      <th>9</th>\n",
       "      <th>...</th>\n",
       "      <th>22</th>\n",
       "      <th>23</th>\n",
       "      <th>24</th>\n",
       "      <th>25</th>\n",
       "      <th>26</th>\n",
       "      <th>27</th>\n",
       "      <th>28</th>\n",
       "      <th>29</th>\n",
       "      <th>30</th>\n",
       "      <th>31</th>\n",
       "    </tr>\n",
       "  </thead>\n",
       "  <tbody>\n",
       "    <tr>\n",
       "      <td>0</td>\n",
       "      <td>842302</td>\n",
       "      <td>M</td>\n",
       "      <td>17.99</td>\n",
       "      <td>10.38</td>\n",
       "      <td>122.80</td>\n",
       "      <td>1001.0</td>\n",
       "      <td>0.11840</td>\n",
       "      <td>0.27760</td>\n",
       "      <td>0.3001</td>\n",
       "      <td>0.14710</td>\n",
       "      <td>...</td>\n",
       "      <td>25.38</td>\n",
       "      <td>17.33</td>\n",
       "      <td>184.60</td>\n",
       "      <td>2019.0</td>\n",
       "      <td>0.1622</td>\n",
       "      <td>0.6656</td>\n",
       "      <td>0.7119</td>\n",
       "      <td>0.2654</td>\n",
       "      <td>0.4601</td>\n",
       "      <td>0.11890</td>\n",
       "    </tr>\n",
       "    <tr>\n",
       "      <td>1</td>\n",
       "      <td>842517</td>\n",
       "      <td>M</td>\n",
       "      <td>20.57</td>\n",
       "      <td>17.77</td>\n",
       "      <td>132.90</td>\n",
       "      <td>1326.0</td>\n",
       "      <td>0.08474</td>\n",
       "      <td>0.07864</td>\n",
       "      <td>0.0869</td>\n",
       "      <td>0.07017</td>\n",
       "      <td>...</td>\n",
       "      <td>24.99</td>\n",
       "      <td>23.41</td>\n",
       "      <td>158.80</td>\n",
       "      <td>1956.0</td>\n",
       "      <td>0.1238</td>\n",
       "      <td>0.1866</td>\n",
       "      <td>0.2416</td>\n",
       "      <td>0.1860</td>\n",
       "      <td>0.2750</td>\n",
       "      <td>0.08902</td>\n",
       "    </tr>\n",
       "    <tr>\n",
       "      <td>2</td>\n",
       "      <td>84300903</td>\n",
       "      <td>M</td>\n",
       "      <td>19.69</td>\n",
       "      <td>21.25</td>\n",
       "      <td>130.00</td>\n",
       "      <td>1203.0</td>\n",
       "      <td>0.10960</td>\n",
       "      <td>0.15990</td>\n",
       "      <td>0.1974</td>\n",
       "      <td>0.12790</td>\n",
       "      <td>...</td>\n",
       "      <td>23.57</td>\n",
       "      <td>25.53</td>\n",
       "      <td>152.50</td>\n",
       "      <td>1709.0</td>\n",
       "      <td>0.1444</td>\n",
       "      <td>0.4245</td>\n",
       "      <td>0.4504</td>\n",
       "      <td>0.2430</td>\n",
       "      <td>0.3613</td>\n",
       "      <td>0.08758</td>\n",
       "    </tr>\n",
       "    <tr>\n",
       "      <td>3</td>\n",
       "      <td>84348301</td>\n",
       "      <td>M</td>\n",
       "      <td>11.42</td>\n",
       "      <td>20.38</td>\n",
       "      <td>77.58</td>\n",
       "      <td>386.1</td>\n",
       "      <td>0.14250</td>\n",
       "      <td>0.28390</td>\n",
       "      <td>0.2414</td>\n",
       "      <td>0.10520</td>\n",
       "      <td>...</td>\n",
       "      <td>14.91</td>\n",
       "      <td>26.50</td>\n",
       "      <td>98.87</td>\n",
       "      <td>567.7</td>\n",
       "      <td>0.2098</td>\n",
       "      <td>0.8663</td>\n",
       "      <td>0.6869</td>\n",
       "      <td>0.2575</td>\n",
       "      <td>0.6638</td>\n",
       "      <td>0.17300</td>\n",
       "    </tr>\n",
       "    <tr>\n",
       "      <td>4</td>\n",
       "      <td>84358402</td>\n",
       "      <td>M</td>\n",
       "      <td>20.29</td>\n",
       "      <td>14.34</td>\n",
       "      <td>135.10</td>\n",
       "      <td>1297.0</td>\n",
       "      <td>0.10030</td>\n",
       "      <td>0.13280</td>\n",
       "      <td>0.1980</td>\n",
       "      <td>0.10430</td>\n",
       "      <td>...</td>\n",
       "      <td>22.54</td>\n",
       "      <td>16.67</td>\n",
       "      <td>152.20</td>\n",
       "      <td>1575.0</td>\n",
       "      <td>0.1374</td>\n",
       "      <td>0.2050</td>\n",
       "      <td>0.4000</td>\n",
       "      <td>0.1625</td>\n",
       "      <td>0.2364</td>\n",
       "      <td>0.07678</td>\n",
       "    </tr>\n",
       "  </tbody>\n",
       "</table>\n",
       "<p>5 rows × 32 columns</p>\n",
       "</div>"
      ],
      "text/plain": [
       "         0  1      2      3       4       5        6        7       8   \\\n",
       "0    842302  M  17.99  10.38  122.80  1001.0  0.11840  0.27760  0.3001   \n",
       "1    842517  M  20.57  17.77  132.90  1326.0  0.08474  0.07864  0.0869   \n",
       "2  84300903  M  19.69  21.25  130.00  1203.0  0.10960  0.15990  0.1974   \n",
       "3  84348301  M  11.42  20.38   77.58   386.1  0.14250  0.28390  0.2414   \n",
       "4  84358402  M  20.29  14.34  135.10  1297.0  0.10030  0.13280  0.1980   \n",
       "\n",
       "        9   ...     22     23      24      25      26      27      28      29  \\\n",
       "0  0.14710  ...  25.38  17.33  184.60  2019.0  0.1622  0.6656  0.7119  0.2654   \n",
       "1  0.07017  ...  24.99  23.41  158.80  1956.0  0.1238  0.1866  0.2416  0.1860   \n",
       "2  0.12790  ...  23.57  25.53  152.50  1709.0  0.1444  0.4245  0.4504  0.2430   \n",
       "3  0.10520  ...  14.91  26.50   98.87   567.7  0.2098  0.8663  0.6869  0.2575   \n",
       "4  0.10430  ...  22.54  16.67  152.20  1575.0  0.1374  0.2050  0.4000  0.1625   \n",
       "\n",
       "       30       31  \n",
       "0  0.4601  0.11890  \n",
       "1  0.2750  0.08902  \n",
       "2  0.3613  0.08758  \n",
       "3  0.6638  0.17300  \n",
       "4  0.2364  0.07678  \n",
       "\n",
       "[5 rows x 32 columns]"
      ]
     },
     "execution_count": 3,
     "metadata": {},
     "output_type": "execute_result"
    }
   ],
   "source": [
    "# Visualizing our loaded dataframe\n",
    "data_frame.head()"
   ]
  },
  {
   "cell_type": "markdown",
   "metadata": {},
   "source": [
    "## Step#2 : Processing Dataframe\n",
    "In the following cells, we perform some operations on the dataframe, they are as follows :\n",
    "1. Replace Categorical Variables with their Numeric Counterparts\n",
    "2. Extract Traning Data\n",
    "3. Extract Traning Labels"
   ]
  },
  {
   "cell_type": "code",
   "execution_count": 4,
   "metadata": {},
   "outputs": [],
   "source": [
    "# Replace Categorical Variables with numeric counterparts\n",
    "data_frame[1].replace({'M' : 1,'B' : 0},inplace=True)"
   ]
  },
  {
   "cell_type": "code",
   "execution_count": 5,
   "metadata": {},
   "outputs": [],
   "source": [
    "# Extracting all relevant columns, for training data, it is all columns except id column and label column\n",
    "# Labels for this dataset are present in the first column\n",
    "X = data_frame.iloc[:,[col for col in data_frame.columns.to_list() if col != 1 and col!= 0]].to_numpy()\n",
    "Y = data_frame.iloc[:,[1]].to_numpy()"
   ]
  },
  {
   "cell_type": "code",
   "execution_count": 6,
   "metadata": {},
   "outputs": [
    {
     "data": {
      "image/png": "[encoded data removed]",
      "text/plain": [
       "<Figure size 432x288 with 2 Axes>"
      ]
     },
     "metadata": {
      "needs_background": "light"
     },
     "output_type": "display_data"
    }
   ],
   "source": [
    "# Using seaborn to plot the correlation matrix to see correlated data\n",
    "data_frame_stat =  data_frame.iloc[:,[col for col in data_frame.columns.to_list() if col != 1 and col!= 0]]\n",
    "corr_matrix = data_frame_stat.corr() \n",
    "corr_plot = sns.heatmap(corr_matrix)"
   ]
  },
  {
   "cell_type": "markdown",
   "metadata": {},
   "source": [
    "## Step#3 : Spliting Dataframe\n",
    "\n",
    "In the following few cells, we split the dataset into training,validation and test sets. We do it in the ratio of 80:10:10.\n",
    "This means that of all the data available.\n",
    "1. 80% is used for training the Model.\n",
    "2. 10% is used to validate the Model.\n",
    "3. 10% is used to test the Model."
   ]
  },
  {
   "cell_type": "code",
   "execution_count": 7,
   "metadata": {},
   "outputs": [],
   "source": [
    "# Here we perform the splitting of dataset using the library, scikit\n",
    "X_train, X_test_raw, y_train, y_test_raw = train_test_split(X,Y,test_size=0.2,random_state=42)\n",
    "X_val, X_test, y_val, y_test = train_test_split(X_test_raw,y_test_raw,test_size=0.5,random_state=42)"
   ]
  },
  {
   "cell_type": "markdown",
   "metadata": {},
   "source": [
    "## Step#4 : Performing Preprocessing\n",
    "\n",
    "In order to avoid, some features to dominate the calculation due to the intrinsic large magnitude, \n",
    "we perform feature normaization. For simplicity, we perform [min-max normalization](https://scikit-learn.org/stable/modules/generated/sklearn.preprocessing.MinMaxScaler.html)"
   ]
  },
  {
   "cell_type": "code",
   "execution_count": 8,
   "metadata": {},
   "outputs": [],
   "source": [
    "# Performing the Preprocessing step\n",
    "min_max_scaler = preprocessing.MinMaxScaler()\n",
    "X_train = min_max_scaler.fit_transform(X_train)\n",
    "X_val = min_max_scaler.fit_transform(X_val)\n",
    "X_test = min_max_scaler.fit_transform(X_test)"
   ]
  },
  {
   "cell_type": "markdown",
   "metadata": {},
   "source": [
    "## Step#5 : Defining Functions :\n",
    "\n",
    "Before we begin traning, we define the functions that we will be using for traning. We define the [sigmoid function](https://en.wikipedia.org/wiki/Sigmoid_function) that maps the set of real numbers into the range (0,1). We also define the predict function, that classifies a value into one of the given classes based on a threshold value."
   ]
  },
  {
   "cell_type": "code",
   "execution_count": 9,
   "metadata": {},
   "outputs": [],
   "source": [
    "def sigmoid(z) :\n",
    "    return 1/(1+np.exp(-z))"
   ]
  },
  {
   "cell_type": "code",
   "execution_count": 10,
   "metadata": {},
   "outputs": [],
   "source": [
    "def predict(y,threshold=0.5) :\n",
    "    if y > threshold :\n",
    "        return 1\n",
    "    else :\n",
    "        return 0"
   ]
  },
  {
   "cell_type": "markdown",
   "metadata": {},
   "source": [
    "## Step#6 Training : \n",
    "\n",
    "In the function, we perform the training. We train a [logistic regression model](https://en.wikipedia.org/wiki/Logistic_regression) optimized using [gradient descent](https://en.wikipedia.org/wiki/Gradient_descent) my minimizing the [sum cross entropy loss](https://en.wikipedia.org/wiki/Cross_entropy)"
   ]
  },
  {
   "cell_type": "code",
   "execution_count": 11,
   "metadata": {
    "scrolled": true
   },
   "outputs": [],
   "source": [
    "def train_model(epochs=10000,\n",
    "                learning_rate=0.1,\n",
    "                X_train=X_train,\n",
    "                y_train=y_train,\n",
    "                X_val=X_val,\n",
    "                y_val=y_val,\n",
    "                X_test=X_test,\n",
    "                y_test=y_test) :\n",
    "    n_train = X_train.shape[0]\n",
    "    n_val = X_val.shape[0]\n",
    "    train_loss_list = list()\n",
    "    epoch_list = list()\n",
    "    val_loss_list = list()\n",
    "    \n",
    "    training_accuracy_list = list()\n",
    "    Weights = np.random.rand(X_train.shape[1],1)*0.1\n",
    "    Best_Weights = np.random.rand(X_train.shape[1],1)\n",
    "    best_loss = 9999\n",
    "    \n",
    "    for epoch in tqdm(range(epochs)) :\n",
    "        \n",
    "        #1. compute values\n",
    "        z = np.dot(X_train,Weights)\n",
    "        y_pred = sigmoid(z)\n",
    "        \n",
    "        #2. compute loss\n",
    "        train_loss = 0.0\n",
    "        train_loss = -np.sum(np.multiply(y_train,np.log(y_pred)) + np.multiply((1-y_train),np.log(1-y_pred)))/n_train\n",
    "        train_loss_list.append(np.squeeze(train_loss))\n",
    "        #print(train_loss.shape)\n",
    "        \n",
    "        y_train_preds = list(map(predict,y_pred))\n",
    "        train_acc = accuracy_score(y_train,y_train_preds)\n",
    "        training_accuracy_list.append(train_acc)\n",
    "        \n",
    "        z_val = np.dot(X_val,Weights)\n",
    "        y_val_pred = sigmoid(z_val)\n",
    "        \n",
    "        val_loss = 0.0\n",
    "        val_loss = -np.sum(np.multiply(y_val,np.log(y_val_pred)) + np.multiply((1-y_val),np.log(1-y_val_pred)))/n_val\n",
    "        val_loss_list.append(np.squeeze(val_loss))\n",
    "        \n",
    "        # if the current weights produce the lowest loss, then save it\n",
    "        if val_loss < best_loss :\n",
    "            best_loss = val_loss\n",
    "            Best_Weights = copy.copy(Weights)\n",
    "        \n",
    "        epoch_list.append(epoch)\n",
    "        \n",
    "        #3. Perform optimization\n",
    "        gradient = np.dot(X_train.T,(y_pred-y_train))/n_train\n",
    "        Weights = Weights - learning_rate*gradient\n",
    "        \n",
    "    return train_loss_list, val_loss_list, epoch_list, Best_Weights, best_loss, training_accuracy_list"
   ]
  },
  {
   "cell_type": "markdown",
   "metadata": {},
   "source": [
    "## Step#7 : Performing Experiments\n",
    "\n",
    "We perform grid search on two hyperparameters i.e. epochs and learning rate.\n",
    "\n",
    "We choose learning rates 0.01, 0.05 and 0.1 and\n",
    "\n",
    "We choose epochs 100, 1000 and 10000\n",
    "\n",
    "We present the plot of loss curves with epochs for different learning rates and epochs and also report the lowest validation loss obtained from training in the respective hyperparameter space"
   ]
  },
  {
   "cell_type": "markdown",
   "metadata": {},
   "source": [
    "**Performing Training for learning rate = 0.01, epochs = 100**"
   ]
  },
  {
   "cell_type": "code",
   "execution_count": 12,
   "metadata": {},
   "outputs": [
    {
     "name": "stderr",
     "output_type": "stream",
     "text": [
      "100%|██████████| 100/100 [00:00<00:00, 384.79it/s]\n"
     ]
    },
    {
     "name": "stdout",
     "output_type": "stream",
     "text": [
      "Validation Loss of the Best Model is       0.64\n"
     ]
    },
    {
     "data": {
      "image/png": "[encoded data removed]",
      "text/plain": [
       "<Figure size 432x288 with 2 Axes>"
      ]
     },
     "metadata": {
      "needs_background": "light"
     },
     "output_type": "display_data"
    }
   ],
   "source": [
    "train_loss_list, val_loss_list, epoch_list, Best_Weights, loss, train_accuracy_list = train_model(epochs=100,\n",
    "                                                           learning_rate=0.01)\n",
    "\n",
    "print(\"Validation Loss of the Best Model is {:10.2f}\".format(loss))\n",
    "# Plotting for hyper-parameters learning rate = 0.01 and epochs = 100\n",
    "fig, ax = plt.subplots(2)\n",
    "ax[0].plot(epoch_list,train_loss_list,'b-',label='train_loss')\n",
    "ax[0].plot(epoch_list,val_loss_list,'r-',label='val_loss')\n",
    "ax[0].set_xlabel('Epochs')\n",
    "ax[0].set_ylabel('Loss')\n",
    "\n",
    "ax[1].plot(epoch_list,train_accuracy_list,'g-')\n",
    "ax[1].set_xlabel('Epochs')\n",
    "ax[1].set_ylabel('Training Accuracy')\n",
    "\n",
    "train_patch = mpatches.Patch(color='blue',label='train loss')\n",
    "val_patch  = mpatches.Patch(color='red',label='val_loss')\n",
    "patches = [train_patch,val_patch]\n",
    "\n",
    "ax[0].legend(handles=patches,loc='upper right')\n",
    "#plt.savefig('loss_plot_TWO_PLOTS')\n",
    "plt.savefig('loss_plot_lr001_e100')\n",
    "plt.show()"
   ]
  },
  {
   "cell_type": "markdown",
   "metadata": {},
   "source": [
    "**Performing Training for learning rate = 0.01, epochs = 1000**"
   ]
  },
  {
   "cell_type": "code",
   "execution_count": 13,
   "metadata": {},
   "outputs": [
    {
     "name": "stderr",
     "output_type": "stream",
     "text": [
      "100%|██████████| 1000/1000 [00:02<00:00, 397.76it/s]\n"
     ]
    },
    {
     "name": "stdout",
     "output_type": "stream",
     "text": [
      "Validation Loss of the Best Model is       0.53\n"
     ]
    },
    {
     "data": {
      "image/png": "[encoded data removed]",
      "text/plain": [
       "<Figure size 432x288 with 2 Axes>"
      ]
     },
     "metadata": {
      "needs_background": "light"
     },
     "output_type": "display_data"
    }
   ],
   "source": [
    "train_loss_list, val_loss_list, epoch_list, Best_Weights, loss, train_accuracy_list = train_model(epochs=1000,\n",
    "                                                           learning_rate=0.01)\n",
    "\n",
    "print(\"Validation Loss of the Best Model is {:10.2f}\".format(loss))\n",
    "# Plotting for hyper-parameters learning rate = 0.01 and epochs = 1000\n",
    "fig, ax = plt.subplots(2)\n",
    "ax[0].plot(epoch_list,train_loss_list,'b-',label='train_loss')\n",
    "ax[0].plot(epoch_list,val_loss_list,'r-',label='val_loss')\n",
    "ax[0].set_xlabel('Epochs')\n",
    "ax[0].set_ylabel('Loss')\n",
    "\n",
    "ax[1].plot(epoch_list,train_accuracy_list,'g-')\n",
    "ax[1].set_xlabel('Epochs')\n",
    "ax[1].set_ylabel('Training Accuracy')\n",
    "\n",
    "train_patch = mpatches.Patch(color='blue',label='train loss')\n",
    "val_patch  = mpatches.Patch(color='red',label='val_loss')\n",
    "patches = [train_patch,val_patch]\n",
    "\n",
    "ax[0].legend(handles=patches,loc='upper right')\n",
    "plt.savefig('loss_plot_lr001_e1000')\n",
    "plt.show()"
   ]
  },
  {
   "cell_type": "markdown",
   "metadata": {},
   "source": [
    "**Performing Training for learning rate = 0.01, epochs = 10000**"
   ]
  },
  {
   "cell_type": "code",
   "execution_count": 14,
   "metadata": {},
   "outputs": [
    {
     "name": "stderr",
     "output_type": "stream",
     "text": [
      "100%|██████████| 10000/10000 [00:32<00:00, 311.73it/s]\n"
     ]
    },
    {
     "name": "stdout",
     "output_type": "stream",
     "text": [
      "Validation Loss of the Best Model is       0.35\n"
     ]
    },
    {
     "data": {
      "image/png": "[encoded data removed]",
      "text/plain": [
       "<Figure size 432x288 with 2 Axes>"
      ]
     },
     "metadata": {
      "needs_background": "light"
     },
     "output_type": "display_data"
    }
   ],
   "source": [
    "train_loss_list, val_loss_list, epoch_list, Best_Weights, loss, train_accuracy_list = train_model(epochs=10000,\n",
    "                                                           learning_rate=0.01)\n",
    "\n",
    "print(\"Validation Loss of the Best Model is {:10.2f}\".format(loss))\n",
    "# Plotting for hyper-parameters learning rate = 0.01 and epochs = 10000\n",
    "fig, ax = plt.subplots(2)\n",
    "ax[0].plot(epoch_list,train_loss_list,'b-',label='train_loss')\n",
    "ax[0].plot(epoch_list,val_loss_list,'r-',label='val_loss')\n",
    "ax[0].set_xlabel('Epochs')\n",
    "ax[0].set_ylabel('Loss')\n",
    "\n",
    "ax[1].plot(epoch_list,train_accuracy_list,'g-')\n",
    "ax[1].set_xlabel('Epochs')\n",
    "ax[1].set_ylabel('Training Accuracy')\n",
    "\n",
    "train_patch = mpatches.Patch(color='blue',label='train loss')\n",
    "val_patch  = mpatches.Patch(color='red',label='val_loss')\n",
    "patches = [train_patch,val_patch]\n",
    "\n",
    "ax[0].legend(handles=patches,loc='upper right')\n",
    "plt.savefig('loss_plot_lr001_e10000')\n",
    "plt.show()"
   ]
  },
  {
   "cell_type": "markdown",
   "metadata": {},
   "source": [
    "**Performing Training for learning rate = 0.05, epochs = 100**"
   ]
  },
  {
   "cell_type": "code",
   "execution_count": 15,
   "metadata": {},
   "outputs": [
    {
     "name": "stderr",
     "output_type": "stream",
     "text": [
      "100%|██████████| 100/100 [00:00<00:00, 249.76it/s]\n"
     ]
    },
    {
     "name": "stdout",
     "output_type": "stream",
     "text": [
      "Validation Loss of the Best Model is       0.59\n"
     ]
    },
    {
     "data": {
      "image/png": "[encoded data removed]",
      "text/plain": [
       "<Figure size 432x288 with 2 Axes>"
      ]
     },
     "metadata": {
      "needs_background": "light"
     },
     "output_type": "display_data"
    }
   ],
   "source": [
    "train_loss_list, val_loss_list, epoch_list, Best_Weights, loss, train_accuracy_list = train_model(epochs=100,\n",
    "                                                           learning_rate=0.05)\n",
    "\n",
    "print(\"Validation Loss of the Best Model is {:10.2f}\".format(loss))\n",
    "# Plotting for hyper-parameters learning rate = 0.05 and epochs = 100\n",
    "fig, ax = plt.subplots(2)\n",
    "ax[0].plot(epoch_list,train_loss_list,'b-',label='train_loss')\n",
    "ax[0].plot(epoch_list,val_loss_list,'r-',label='val_loss')\n",
    "ax[0].set_xlabel('Epochs')\n",
    "ax[0].set_ylabel('Loss')\n",
    "\n",
    "ax[1].plot(epoch_list,train_accuracy_list,'g-')\n",
    "ax[1].set_xlabel('Epochs')\n",
    "ax[1].set_ylabel('Training Accuracy')\n",
    "\n",
    "train_patch = mpatches.Patch(color='blue',label='train loss')\n",
    "val_patch  = mpatches.Patch(color='red',label='val_loss')\n",
    "patches = [train_patch,val_patch]\n",
    "\n",
    "ax[0].legend(handles=patches,loc='upper right')\n",
    "plt.savefig('loss_plot_lr005_e100')\n",
    "plt.show()"
   ]
  },
  {
   "cell_type": "markdown",
   "metadata": {},
   "source": [
    "**Performing Training for learning rate = 0.05, epochs = 1000**"
   ]
  },
  {
   "cell_type": "code",
   "execution_count": 16,
   "metadata": {},
   "outputs": [
    {
     "name": "stderr",
     "output_type": "stream",
     "text": [
      "100%|██████████| 1000/1000 [00:02<00:00, 374.94it/s]\n"
     ]
    },
    {
     "name": "stdout",
     "output_type": "stream",
     "text": [
      "Validation Loss of the Best Model is       0.39\n"
     ]
    },
    {
     "data": {
      "image/png": "[encoded data removed]",
      "text/plain": [
       "<Figure size 432x288 with 2 Axes>"
      ]
     },
     "metadata": {
      "needs_background": "light"
     },
     "output_type": "display_data"
    }
   ],
   "source": [
    "train_loss_list, val_loss_list, epoch_list, Best_Weights, loss, train_accuracy_list = train_model(epochs=1000,\n",
    "                                                           learning_rate=0.05)\n",
    "\n",
    "print(\"Validation Loss of the Best Model is {:10.2f}\".format(loss))\n",
    "# Plotting for hyper-parameters learning rate = 0.05 and epochs = 1000\n",
    "fig, ax = plt.subplots(2)\n",
    "ax[0].plot(epoch_list,train_loss_list,'b-',label='train_loss')\n",
    "ax[0].plot(epoch_list,val_loss_list,'r-',label='val_loss')\n",
    "ax[0].set_xlabel('Epochs')\n",
    "ax[0].set_ylabel('Loss')\n",
    "\n",
    "ax[1].plot(epoch_list,train_accuracy_list,'g-')\n",
    "ax[1].set_xlabel('Epochs')\n",
    "ax[1].set_ylabel('Training Accuracy')\n",
    "\n",
    "train_patch = mpatches.Patch(color='blue',label='train loss')\n",
    "val_patch  = mpatches.Patch(color='red',label='val_loss')\n",
    "patches = [train_patch,val_patch]\n",
    "\n",
    "ax[0].legend(handles=patches,loc='upper right')\n",
    "plt.savefig('loss_plot_lr005_e1000')\n",
    "plt.show()"
   ]
  },
  {
   "cell_type": "markdown",
   "metadata": {},
   "source": [
    "**Performing Training for learning rate = 0.05, epochs = 10000**"
   ]
  },
  {
   "cell_type": "code",
   "execution_count": 17,
   "metadata": {},
   "outputs": [
    {
     "name": "stderr",
     "output_type": "stream",
     "text": [
      "100%|██████████| 10000/10000 [00:29<00:00, 343.60it/s]\n"
     ]
    },
    {
     "name": "stdout",
     "output_type": "stream",
     "text": [
      "Validation Loss of the Best Model is       0.28\n"
     ]
    },
    {
     "data": {
      "image/png": "[encoded data removed]",
      "text/plain": [
       "<Figure size 432x288 with 2 Axes>"
      ]
     },
     "metadata": {
      "needs_background": "light"
     },
     "output_type": "display_data"
    }
   ],
   "source": [
    "train_loss_list, val_loss_list, epoch_list, Best_Weights, loss, train_accuracy_list = train_model(epochs=10000,\n",
    "                                                           learning_rate=0.05)\n",
    "\n",
    "print(\"Validation Loss of the Best Model is {:10.2f}\".format(loss))\n",
    "# Plotting for hyper-parameters learning rate = 0.05 and epochs = 10000\n",
    "fig, ax = plt.subplots(2)\n",
    "ax[0].plot(epoch_list,train_loss_list,'b-',label='train_loss')\n",
    "ax[0].plot(epoch_list,val_loss_list,'r-',label='val_loss')\n",
    "ax[0].set_xlabel('Epochs')\n",
    "ax[0].set_ylabel('Loss')\n",
    "\n",
    "ax[1].plot(epoch_list,train_accuracy_list,'g-')\n",
    "ax[1].set_xlabel('Epochs')\n",
    "ax[1].set_ylabel('Training Accuracy')\n",
    "\n",
    "train_patch = mpatches.Patch(color='blue',label='train loss')\n",
    "val_patch  = mpatches.Patch(color='red',label='val_loss')\n",
    "patches = [train_patch,val_patch]\n",
    "\n",
    "ax[0].legend(handles=patches,loc='upper right')\n",
    "plt.savefig('loss_plot_lr005_e10000')\n",
    "plt.show()"
   ]
  },
  {
   "cell_type": "markdown",
   "metadata": {},
   "source": [
    "**Performing Training for learning rate = 0.1, epochs = 100**"
   ]
  },
  {
   "cell_type": "code",
   "execution_count": 18,
   "metadata": {},
   "outputs": [
    {
     "name": "stderr",
     "output_type": "stream",
     "text": [
      "100%|██████████| 100/100 [00:00<00:00, 356.35it/s]\n"
     ]
    },
    {
     "name": "stdout",
     "output_type": "stream",
     "text": [
      "Validation Loss of the Best Model is       0.53\n"
     ]
    },
    {
     "data": {
      "image/png": "[encoded data removed]",
      "text/plain": [
       "<Figure size 432x288 with 2 Axes>"
      ]
     },
     "metadata": {
      "needs_background": "light"
     },
     "output_type": "display_data"
    }
   ],
   "source": [
    "train_loss_list, val_loss_list, epoch_list, Best_Weights, loss, train_accuracy_list = train_model(epochs=100,\n",
    "                                                           learning_rate=0.1)\n",
    "\n",
    "print(\"Validation Loss of the Best Model is {:10.2f}\".format(loss))\n",
    "# Plotting for hyper-parameters learning rate = 0.1 and epochs = 100\n",
    "fig, ax = plt.subplots(2)\n",
    "ax[0].plot(epoch_list,train_loss_list,'b-',label='train_loss')\n",
    "ax[0].plot(epoch_list,val_loss_list,'r-',label='val_loss')\n",
    "ax[0].set_xlabel('Epochs')\n",
    "ax[0].set_ylabel('Loss')\n",
    "\n",
    "ax[1].plot(epoch_list,train_accuracy_list,'g-')\n",
    "ax[1].set_xlabel('Epochs')\n",
    "ax[1].set_ylabel('Training Accuracy')\n",
    "\n",
    "train_patch = mpatches.Patch(color='blue',label='train loss')\n",
    "val_patch  = mpatches.Patch(color='red',label='val_loss')\n",
    "patches = [train_patch,val_patch]\n",
    "\n",
    "ax[0].legend(handles=patches,loc='upper right')\n",
    "plt.savefig('loss_plot_lr01_e100')\n",
    "plt.show()"
   ]
  },
  {
   "cell_type": "markdown",
   "metadata": {},
   "source": [
    "**Performing Training for learning rate = 0.1, epochs = 1000**"
   ]
  },
  {
   "cell_type": "code",
   "execution_count": 19,
   "metadata": {},
   "outputs": [
    {
     "name": "stderr",
     "output_type": "stream",
     "text": [
      "100%|██████████| 1000/1000 [00:02<00:00, 409.19it/s]\n"
     ]
    },
    {
     "name": "stdout",
     "output_type": "stream",
     "text": [
      "Validation Loss of the Best Model is       0.34\n"
     ]
    },
    {
     "data": {
      "image/png": "[encoded data removed]",
      "text/plain": [
       "<Figure size 432x288 with 2 Axes>"
      ]
     },
     "metadata": {
      "needs_background": "light"
     },
     "output_type": "display_data"
    }
   ],
   "source": [
    "train_loss_list, val_loss_list, epoch_list, Best_Weights, loss, train_accuracy_list = train_model(epochs=1000,\n",
    "                                                           learning_rate=0.1)\n",
    "\n",
    "print(\"Validation Loss of the Best Model is {:10.2f}\".format(loss))\n",
    "# Plotting for hyper-parameters learning rate = 0.1 and epochs = 1000\n",
    "fig, ax = plt.subplots(2)\n",
    "ax[0].plot(epoch_list,train_loss_list,'b-',label='train_loss')\n",
    "ax[0].plot(epoch_list,val_loss_list,'r-',label='val_loss')\n",
    "ax[0].set_xlabel('Epochs')\n",
    "ax[0].set_ylabel('Loss')\n",
    "\n",
    "ax[1].plot(epoch_list,train_accuracy_list,'g-')\n",
    "ax[1].set_xlabel('Epochs')\n",
    "ax[1].set_ylabel('Training Accuracy')\n",
    "\n",
    "train_patch = mpatches.Patch(color='blue',label='train loss')\n",
    "val_patch  = mpatches.Patch(color='red',label='val_loss')\n",
    "patches = [train_patch,val_patch]\n",
    "\n",
    "ax[0].legend(handles=patches,loc='upper right')\n",
    "plt.savefig('loss_plot_lr01_e1000')\n",
    "plt.show()"
   ]
  },
  {
   "cell_type": "markdown",
   "metadata": {},
   "source": [
    "**Performing Training for learning rate = 0.1, epochs = 10000**"
   ]
  },
  {
   "cell_type": "code",
   "execution_count": 20,
   "metadata": {},
   "outputs": [
    {
     "name": "stderr",
     "output_type": "stream",
     "text": [
      "100%|██████████| 10000/10000 [00:25<00:00, 397.48it/s]\n"
     ]
    },
    {
     "name": "stdout",
     "output_type": "stream",
     "text": [
      "Validation Loss of the Best Model is       0.25\n"
     ]
    },
    {
     "data": {
      "image/png": "[encoded data removed]",
      "text/plain": [
       "<Figure size 432x288 with 2 Axes>"
      ]
     },
     "metadata": {
      "needs_background": "light"
     },
     "output_type": "display_data"
    }
   ],
   "source": [
    "train_loss_list, val_loss_list, epoch_list, Best_Weights, loss, train_accuracy_list = train_model(epochs=10000,\n",
    "                                                           learning_rate=0.1)\n",
    "\n",
    "print(\"Validation Loss of the Best Model is {:10.2f}\".format(loss))\n",
    "# Plotting for hyper-parameters learning rate = 0.1 and epochs = 10000\n",
    "fig, ax = plt.subplots(2)\n",
    "ax[0].plot(epoch_list,train_loss_list,'b-',label='train_loss')\n",
    "ax[0].plot(epoch_list,val_loss_list,'r-',label='val_loss')\n",
    "ax[0].set_xlabel('Epochs')\n",
    "ax[0].set_ylabel('Loss')\n",
    "\n",
    "ax[1].plot(epoch_list,train_accuracy_list,'g-')\n",
    "ax[1].set_xlabel('Epochs')\n",
    "ax[1].set_ylabel('Training Accuracy')\n",
    "\n",
    "train_patch = mpatches.Patch(color='blue',label='train loss')\n",
    "val_patch  = mpatches.Patch(color='red',label='val_loss')\n",
    "patches = [train_patch,val_patch]\n",
    "\n",
    "ax[0].legend(handles=patches,loc='upper right')\n",
    "plt.savefig('loss_plot_lr01_e10000')\n",
    "plt.show()"
   ]
  },
  {
   "cell_type": "markdown",
   "metadata": {},
   "source": [
    "**Choosing the Best Model**\n",
    "\n",
    "We choose the last model as it was seen to have the lowest validation loss. We could search more for more optimal solutions but as it is evident from the last loss curve, the validation loss has started to stagnate meaning that it wouldn't have any significant influence on the inferences"
   ]
  },
  {
   "cell_type": "code",
   "execution_count": 21,
   "metadata": {},
   "outputs": [],
   "source": [
    "y_ = np.dot(X_train,Best_Weights)\n",
    "y_train_preds = list(map(predict,y_))\n",
    "\n",
    "y_val_ = np.dot(X_val,Best_Weights)\n",
    "y_val_preds = list(map(predict,y_val_))\n",
    "\n",
    "y_test_ = np.dot(X_test,Best_Weights)\n",
    "y_test_preds = list(map(predict,y_test_))"
   ]
  },
  {
   "cell_type": "code",
   "execution_count": 22,
   "metadata": {},
   "outputs": [
    {
     "name": "stdout",
     "output_type": "stream",
     "text": [
      "For the traning data,\n",
      "Accuracy is       0.93\n",
      "F1-Score is       0.89\n",
      "For the validation data,\n",
      "Accuracy is       0.86\n",
      "F1-Score is       0.83\n",
      "For the Test data,\n",
      "Accuracy is       0.95\n",
      "F1-Score is       0.90\n"
     ]
    }
   ],
   "source": [
    "# Stats on the Traning Data\n",
    "training_accuracy = accuracy_score(y_train,y_train_preds)\n",
    "training_f1_score = f1_score(y_train,y_train_preds)\n",
    "print('For the traning data,\\nAccuracy is {:10.2f}\\nF1-Score is {:10.2f}'.format(training_accuracy,training_f1_score))\n",
    "\n",
    "# Stats on Validation Data\n",
    "validation_accuracy = accuracy_score(y_val,y_val_preds)\n",
    "validation_f1_score = f1_score(y_val,y_val_preds)\n",
    "print('For the validation data,\\nAccuracy is {:10.2f}\\nF1-Score is {:10.2f}'.format(validation_accuracy,validation_f1_score))\n",
    "\n",
    "# Stats on Test Data\n",
    "test_accuracy = accuracy_score(y_test,y_test_preds)\n",
    "test_f1_score = f1_score(y_test,y_test_preds)\n",
    "print('For the Test data,\\nAccuracy is {:10.2f}\\nF1-Score is {:10.2f}'.format(test_accuracy,test_f1_score))"
   ]
  },
  {
   "cell_type": "code",
   "execution_count": 23,
   "metadata": {},
   "outputs": [
    {
     "name": "stdout",
     "output_type": "stream",
     "text": [
      "              precision    recall  f1-score   support\n",
      "\n",
      "      Benign       0.91      0.98      0.94       286\n",
      "   Malignant       0.97      0.83      0.89       169\n",
      "\n",
      "    accuracy                           0.93       455\n",
      "   macro avg       0.94      0.91      0.92       455\n",
      "weighted avg       0.93      0.93      0.92       455\n",
      "\n",
      "              precision    recall  f1-score   support\n",
      "\n",
      "      Benign       0.81      0.97      0.88        30\n",
      "   Malignant       0.95      0.74      0.83        27\n",
      "\n",
      "    accuracy                           0.86        57\n",
      "   macro avg       0.88      0.85      0.86        57\n",
      "weighted avg       0.88      0.86      0.86        57\n",
      "\n",
      "              precision    recall  f1-score   support\n",
      "\n",
      "      Benign       0.93      1.00      0.96        41\n",
      "   Malignant       1.00      0.81      0.90        16\n",
      "\n",
      "    accuracy                           0.95        57\n",
      "   macro avg       0.97      0.91      0.93        57\n",
      "weighted avg       0.95      0.95      0.95        57\n",
      "\n"
     ]
    }
   ],
   "source": [
    "# Printing Classification Report\n",
    "\n",
    "# Classification Report for Traning Data\n",
    "print(classification_report(y_train, y_train_preds, target_names=['Benign','Malignant']))\n",
    "\n",
    "# Classification Report for Validation Data\n",
    "print(classification_report(y_val,y_val_preds,target_names=['Benign','Malignant']))\n",
    "\n",
    "# Classification Report for Test Data\n",
    "print(classification_report(y_test,y_test_preds,target_names=['Benign','Malignant']))"
   ]
  },
  {
   "cell_type": "code",
   "execution_count": null,
   "metadata": {},
   "outputs": [],
   "source": []
  }
 ],
 "metadata": {
  "kernelspec": {
   "display_name": "Python 3",
   "language": "python",
   "name": "python3"
  },
  "language_info": {
   "codemirror_mode": {
    "name": "ipython",
    "version": 3
   },
   "file_extension": ".py",
   "mimetype": "text/x-python",
   "name": "python",
   "nbconvert_exporter": "python",
   "pygments_lexer": "ipython3",
   "version": "3.6.7"
  }
 },
 "nbformat": 4,
 "nbformat_minor": 2
}
